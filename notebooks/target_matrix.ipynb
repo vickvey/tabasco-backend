{
 "cells": [
  {
   "cell_type": "code",
   "execution_count": 27,
   "id": "04f146af",
   "metadata": {},
   "outputs": [],
   "source": [
    "import sys\n",
    "import os\n",
    "\n",
    "# Add the project root to sys.path\n",
    "sys.path.append(os.path.abspath(\"..\"))\n",
    "\n",
    "from app.services import (\n",
    "    extract_top_n_nouns_with_frequency,\n",
    "    get_sentences_with_target_word\n",
    ")"
   ]
  },
  {
   "cell_type": "code",
   "execution_count": 28,
   "id": "ad81e769",
   "metadata": {},
   "outputs": [
    {
     "name": "stdout",
     "output_type": "stream",
     "text": [
      "18552\n"
     ]
    }
   ],
   "source": [
    "with open('../static/uploads/Owczarek.txt') as f:\n",
    "    text_content = f.read()\n",
    "\n",
    "print(len(text_content))"
   ]
  },
  {
   "cell_type": "code",
   "execution_count": 29,
   "id": "3dadfd03",
   "metadata": {},
   "outputs": [
    {
     "data": {
      "text/plain": [
       "{'life': 58,\n",
       " 'qol': 40,\n",
       " 'quality': 38,\n",
       " 'health': 29,\n",
       " 'concept': 22,\n",
       " 'patients': 20,\n",
       " 'patient': 16,\n",
       " 'owczarek': 14,\n",
       " 'situation': 12,\n",
       " 'treatment': 11}"
      ]
     },
     "execution_count": 29,
     "metadata": {},
     "output_type": "execute_result"
    }
   ],
   "source": [
    "extract_top_n_nouns_with_frequency(text_content, 10)"
   ]
  },
  {
   "cell_type": "code",
   "execution_count": 30,
   "id": "13fc558f",
   "metadata": {},
   "outputs": [],
   "source": [
    "sentences = get_sentences_with_target_word(text_content, 'qol', 10)"
   ]
  },
  {
   "cell_type": "code",
   "execution_count": 31,
   "id": "5f5fc9b2",
   "metadata": {},
   "outputs": [
    {
     "data": {
      "text/plain": [
       "10"
      ]
     },
     "execution_count": 31,
     "metadata": {},
     "output_type": "execute_result"
    }
   ],
   "source": [
    "len(sentences)"
   ]
  },
  {
   "cell_type": "code",
   "execution_count": 32,
   "id": "d38d57d3",
   "metadata": {},
   "outputs": [
    {
     "data": {
      "text/plain": [
       "['SUMMARY The increasing need to assess the effects of various dis- eases on patients’ psychological and social functioning has led to a number of initiatives aimed at quantitative evaluation of quality of life (QOL).',\n",
       " 'Many definitions of QOL can be found in the literature.',\n",
       " 'Numerous QOL studies have endeav- oured to learn more about the wellbeing of different patient groups, and especially about the effects of various medical interventions which cannot be measured by quantitative bio- logical parameters alone.',\n",
       " 'QOL is usually assessed with self-report measures.',\n",
       " 'QOL assessment is becoming a standard component of comprehensive clinical assessment of patients with chronic diseases that can have a negative effect on every aspect of life.',\n",
       " 'Correct medical intervention involves not only accurate diagnosis of the disease and implementation of adequate and effective pharmacotherapy, but also correct evaluation of all the components of QOL and level of satisfaction of patients’ various medical, emotional and social needs.',\n",
       " 'QOL assessment in patients may affect the improvement of global treatment outcomes.',\n",
       " 'Helping patients involves much more than this, and includes improving the patient’s psycho-social functioning, teaching the patient to find satisfaction in daily life, or more generally, to improve patients’ quality of life (QOL).',\n",
       " 'QOL assessment helps us to see how seriously illness is interfering with normal functioning and affecting performance of social roles.',\n",
       " 'QOL assessment helps us to determine the reasons for poor treatment effectiveness and find the most effective methods of treatment for a given patient.']"
      ]
     },
     "execution_count": 32,
     "metadata": {},
     "output_type": "execute_result"
    }
   ],
   "source": [
    "sentences"
   ]
  },
  {
   "cell_type": "code",
   "execution_count": null,
   "id": "3b42d4c4",
   "metadata": {},
   "outputs": [],
   "source": []
  }
 ],
 "metadata": {
  "kernelspec": {
   "display_name": "Python 3",
   "language": "python",
   "name": "python3"
  },
  "language_info": {
   "codemirror_mode": {
    "name": "ipython",
    "version": 3
   },
   "file_extension": ".py",
   "mimetype": "text/x-python",
   "name": "python",
   "nbconvert_exporter": "python",
   "pygments_lexer": "ipython3",
   "version": "3.12.3"
  }
 },
 "nbformat": 4,
 "nbformat_minor": 5
}
