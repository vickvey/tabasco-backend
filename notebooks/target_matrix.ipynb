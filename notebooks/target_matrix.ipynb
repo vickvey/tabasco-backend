{
 "cells": [
  {
   "cell_type": "markdown",
   "id": "485acd3f",
   "metadata": {},
   "source": [
    "# Necessary Path Settings"
   ]
  },
  {
   "cell_type": "code",
   "execution_count": 1,
   "id": "04f146af",
   "metadata": {},
   "outputs": [],
   "source": [
    "import sys\n",
    "import os\n",
    "\n",
    "# Add the project root to sys.path\n",
    "sys.path.append(os.path.abspath(\"..\"))"
   ]
  },
  {
   "cell_type": "markdown",
   "id": "4bded9ff",
   "metadata": {},
   "source": [
    "### Function Monitor"
   ]
  },
  {
   "cell_type": "code",
   "execution_count": 2,
   "id": "745bdd8d",
   "metadata": {},
   "outputs": [],
   "source": [
    "import time\n",
    "import tracemalloc\n",
    "\n",
    "def timed_memory_profile(func, *args, **kwargs):\n",
    "    tracemalloc.start()\n",
    "    start_time = time.perf_counter()\n",
    "\n",
    "    result = func(*args, **kwargs)\n",
    "\n",
    "    end_time = time.perf_counter()\n",
    "    current, peak = tracemalloc.get_traced_memory()\n",
    "    tracemalloc.stop()\n",
    "\n",
    "    print(f\"Execution time: {end_time - start_time:.4f} seconds\")\n",
    "    print(f\"Current memory usage: {current / 1024:.2f} KB\")\n",
    "    print(f\"Peak memory usage: {peak / 1024:.2f} KB\")\n",
    "\n",
    "    return result\n"
   ]
  },
  {
   "cell_type": "markdown",
   "id": "affcc9fb",
   "metadata": {},
   "source": [
    "### Static constants to load once"
   ]
  },
  {
   "cell_type": "code",
   "execution_count": 3,
   "id": "d9f6504d",
   "metadata": {},
   "outputs": [],
   "source": [
    "from nltk.corpus import stopwords, wordnet as wn\n",
    "from src.services import (\n",
    "    extract_top_n_nouns_with_frequency,\n",
    "    get_sentences_with_target_word\n",
    ")\n",
    "\n",
    "STOP_WORDS = set(stopwords.words(\"english\"))\n",
    "ALL_NOUNS = {lemma.name().lower() for synset in wn.all_synsets(wn.NOUN) for lemma in synset.lemmas()}"
   ]
  },
  {
   "cell_type": "markdown",
   "id": "501ea07f",
   "metadata": {},
   "source": [
    "## -> Book upload and text convert"
   ]
  },
  {
   "cell_type": "markdown",
   "id": "0774931f",
   "metadata": {},
   "source": [
    "### Example 1: Psychology book"
   ]
  },
  {
   "cell_type": "code",
   "execution_count": 4,
   "id": "ad81e769",
   "metadata": {},
   "outputs": [
    {
     "name": "stdout",
     "output_type": "stream",
     "text": [
      "873235\n"
     ]
    }
   ],
   "source": [
    "with open('../static/uploads/psychology_explained.txt') as f:\n",
    "    text_content = f.read()\n",
    "\n",
    "print(len(text_content))"
   ]
  },
  {
   "cell_type": "markdown",
   "id": "7cd3b360",
   "metadata": {},
   "source": [
    "## -> Noun Extraction with frequency"
   ]
  },
  {
   "cell_type": "code",
   "execution_count": 5,
   "id": "3dadfd03",
   "metadata": {},
   "outputs": [
    {
     "data": {
      "text/plain": [
       "{'psychology': 621,\n",
       " 'people': 338,\n",
       " 'behavior': 316,\n",
       " 'memory': 290,\n",
       " 'theory': 254,\n",
       " 'approach': 218,\n",
       " 'personality': 215,\n",
       " 'world': 211,\n",
       " 'freud': 186,\n",
       " 'intelligence': 185,\n",
       " 'life': 183,\n",
       " 'child': 183,\n",
       " 'therapy': 178,\n",
       " 'time': 173,\n",
       " 'university': 171,\n",
       " 'study': 165,\n",
       " 'mind': 160,\n",
       " 'research': 154,\n",
       " 'development': 149,\n",
       " 'work': 143,\n",
       " 'way': 141,\n",
       " 'information': 140,\n",
       " 'see': 137,\n",
       " 'person': 131,\n",
       " 'process': 127,\n",
       " 'context': 127,\n",
       " 'brain': 124,\n",
       " 'psychologist': 123,\n",
       " 'self': 120,\n",
       " 'idea': 120,\n",
       " 'us': 117,\n",
       " 'consciousness': 117,\n",
       " 'experience': 111,\n",
       " 'skinner': 108,\n",
       " 'james': 106,\n",
       " 'john': 106,\n",
       " 'learning': 103,\n",
       " 'environment': 98,\n",
       " 'feelings': 96,\n",
       " 'language': 94,\n",
       " 'part': 93,\n",
       " 'family': 92,\n",
       " 'things': 92,\n",
       " 'experiment': 90,\n",
       " 'response': 88,\n",
       " 'years': 86,\n",
       " 'key': 86,\n",
       " 'nature': 85,\n",
       " 'watson': 84,\n",
       " 'perception': 83}"
      ]
     },
     "execution_count": 5,
     "metadata": {},
     "output_type": "execute_result"
    }
   ],
   "source": [
    "extract_top_n_nouns_with_frequency(text_content, 50, STOP_WORDS, ALL_NOUNS)"
   ]
  },
  {
   "cell_type": "markdown",
   "id": "a05fc135",
   "metadata": {},
   "source": [
    "## -> Sentence Extraction with target word"
   ]
  },
  {
   "cell_type": "code",
   "execution_count": 16,
   "id": "13fc558f",
   "metadata": {},
   "outputs": [],
   "source": [
    "# target word\n",
    "target_word = 'world'\n",
    "\n",
    "sentences = get_sentences_with_target_word(text_content, target_word, 400)"
   ]
  },
  {
   "cell_type": "code",
   "execution_count": 17,
   "id": "5f5fc9b2",
   "metadata": {},
   "outputs": [
    {
     "data": {
      "text/plain": [
       "207"
      ]
     },
     "execution_count": 17,
     "metadata": {},
     "output_type": "execute_result"
    }
   ],
   "source": [
    "len(sentences)"
   ]
  },
  {
   "cell_type": "code",
   "execution_count": 18,
   "id": "d38d57d3",
   "metadata": {},
   "outputs": [
    {
     "data": {
      "text/plain": [
       "'once we understand this we can let go of the idea of just world and think more rationally about negative experiences'"
      ]
     },
     "execution_count": 18,
     "metadata": {},
     "output_type": "execute_result"
    }
   ],
   "source": [
    "sentences[98]"
   ]
  },
  {
   "cell_type": "markdown",
   "id": "656830c4",
   "metadata": {},
   "source": [
    "## -> Similarity Matrix Generation"
   ]
  },
  {
   "cell_type": "code",
   "execution_count": 19,
   "id": "3b42d4c4",
   "metadata": {},
   "outputs": [],
   "source": [
    "import torch\n",
    "from transformers import BertModel, BertTokenizer\n",
    "from src.models import DisambModel \n",
    "\n",
    "# Load model & tokenizer\n",
    "bert_model = BertModel.from_pretrained(\"bert-base-uncased\", output_hidden_states=True)\n",
    "bert_tokenizer = BertTokenizer.from_pretrained(\"bert-base-uncased\")\n",
    "device = torch.device(\"cuda\" if torch.cuda.is_available() else \"cpu\")\n",
    "model = DisambModel(bert_model, bert_tokenizer, device)\n"
   ]
  },
  {
   "cell_type": "code",
   "execution_count": 20,
   "id": "7195deac",
   "metadata": {},
   "outputs": [],
   "source": [
    "from src.services import compute_cosine_similarity_matrix\n",
    "\n",
    "sim_matrix, _ = compute_cosine_similarity_matrix(\n",
    "    sentences=sentences,\n",
    "    target_word=target_word,\n",
    "    model=model\n",
    ")"
   ]
  },
  {
   "cell_type": "code",
   "execution_count": 21,
   "id": "bb88b618",
   "metadata": {},
   "outputs": [
    {
     "data": {
      "text/plain": [
       "torch.Size([207, 207])"
      ]
     },
     "execution_count": 21,
     "metadata": {},
     "output_type": "execute_result"
    }
   ],
   "source": [
    "sim_matrix.shape"
   ]
  },
  {
   "cell_type": "markdown",
   "id": "1830bf1f",
   "metadata": {},
   "source": [
    "## -> Finding Optimal number of clusters from similarity matrix (by using elbow method)"
   ]
  },
  {
   "cell_type": "code",
   "execution_count": 22,
   "id": "6169fba1",
   "metadata": {},
   "outputs": [
    {
     "name": "stdout",
     "output_type": "stream",
     "text": [
      "Optimal cluster count in range [1, 10]:  2\n"
     ]
    }
   ],
   "source": [
    "from src.services import suggest_num_clusters_with_data\n",
    "\n",
    "optimal_k, k_range, wcss = suggest_num_clusters_with_data(sim_matrix)\n",
    "\n",
    "print(\"Optimal cluster count in range [1, 10]: \", optimal_k)"
   ]
  },
  {
   "cell_type": "code",
   "execution_count": 23,
   "id": "bd5e2dac",
   "metadata": {},
   "outputs": [
    {
     "data": {
      "image/png": "[encoded data removed]",
      "text/plain": [
       "<Figure size 800x500 with 1 Axes>"
      ]
     },
     "metadata": {},
     "output_type": "display_data"
    }
   ],
   "source": [
    "import matplotlib.pyplot as plt\n",
    "\n",
    "# Plotting\n",
    "plt.figure(figsize=(8, 5))\n",
    "plt.plot(k_range, wcss, marker='o')\n",
    "plt.title('Elbow Method For Optimal k')\n",
    "plt.xlabel('Number of Clusters (k)')\n",
    "plt.ylabel('WCSS (Inertia)')\n",
    "plt.xticks(k_range)\n",
    "\n",
    "# Annotate the optimal k\n",
    "plt.axvline(x=optimal_k, color='r', linestyle='--', label=f'Optimal k = {optimal_k}')\n",
    "plt.legend()\n",
    "\n",
    "plt.tight_layout()\n",
    "plt.show()"
   ]
  },
  {
   "cell_type": "code",
   "execution_count": 24,
   "id": "9abf2866",
   "metadata": {},
   "outputs": [],
   "source": [
    "from sklearn.cluster import KMeans\n",
    "import torch\n",
    "import numpy as np\n",
    "from typing import List, Dict\n",
    "\n",
    "# 1. Convert similarity matrix to embeddings using MDS (or use sentence embeddings directly)\n",
    "from sklearn.manifold import MDS\n",
    "\n",
    "# Convert similarity to distance for MDS\n",
    "distance_matrix = 1 - sim_matrix.cpu().numpy()\n",
    "mds = MDS(n_components=50, dissimilarity='precomputed', random_state=42)\n",
    "embedding_matrix = mds.fit_transform(distance_matrix)  # shape: [num_sentences, 50]\n",
    "\n",
    "# 2. Clustering with optimal_k\n",
    "kmeans = KMeans(n_clusters=optimal_k, random_state=42)\n",
    "labels = kmeans.fit_predict(embedding_matrix)\n",
    "\n",
    "# 3. Group sentences by cluster\n",
    "from collections import defaultdict\n",
    "\n",
    "\n",
    "clustered_sentences: Dict[int, List[str]] = defaultdict(list)\n",
    "for i, label in enumerate(labels):\n",
    "    clustered_sentences[label].append(sentences[i])\n",
    "\n",
    "\n",
    "# 4. Get contextual BERT embeddings for the target noun in each sentence\n",
    "sentence_embeddings = []\n",
    "for sent in sentences:\n",
    "    try:\n",
    "        emb = model.forward(sent, target_word)\n",
    "        sentence_embeddings.append(emb.cpu())\n",
    "    except ValueError:\n",
    "        sentence_embeddings.append(torch.zeros(768))\n",
    "\n",
    "sentence_embeddings = torch.stack(sentence_embeddings)  # ✅ make it a tensor\n",
    "\n",
    "\n",
    "# 5. Compute cluster centroids in BERT embedding space\n",
    "cluster_centroids: Dict[int, torch.Tensor] = {}\n",
    "for cluster_id in range(optimal_k):\n",
    "    idxs = [i for i, lbl in enumerate(labels) if lbl == cluster_id]\n",
    "    cluster_vectors = sentence_embeddings[idxs]\n",
    "    cluster_centroids[cluster_id] = cluster_vectors.mean(dim=0)\n",
    "\n"
   ]
  },
  {
   "cell_type": "code",
   "execution_count": 25,
   "id": "c1f16f6b",
   "metadata": {},
   "outputs": [
    {
     "name": "stdout",
     "output_type": "stream",
     "text": [
      "Saved cluster summaries to 'summary_clusters.txt'\n"
     ]
    }
   ],
   "source": [
    "import torch.nn.functional as F\n",
    "\n",
    "# Optional: Pick top representative sentence per cluster (closest to centroid)\n",
    "def get_top_representative_sentences(cluster_id: int, top_n=3) -> List[str]:\n",
    "    idxs = [i for i, lbl in enumerate(labels) if lbl == cluster_id]\n",
    "    cluster_vecs = sentence_embeddings[idxs]\n",
    "    centroid = cluster_centroids[cluster_id].unsqueeze(0)\n",
    "    sims = F.cosine_similarity(cluster_vecs, centroid)\n",
    "    top_indices = torch.topk(sims, k=min(top_n, len(sims))).indices.tolist()\n",
    "    return [sentences[idxs[i]] for i in top_indices]\n",
    "\n",
    "# Example usage:\n",
    "# Save representative sentences per cluster to a file\n",
    "output_file = \"summary_clusters.txt\"\n",
    "\n",
    "with open(output_file, \"w\", encoding=\"utf-8\") as f:\n",
    "    for cid in range(optimal_k):\n",
    "        f.write(f\"Cluster {cid}:\\n\")\n",
    "        for s in get_top_representative_sentences(cid):\n",
    "            f.write(f\"  - {s}\\n\")\n",
    "        f.write(\"\\n\")  # Add spacing between clusters\n",
    "\n",
    "print(f\"Saved cluster summaries to '{output_file}'\")\n"
   ]
  },
  {
   "cell_type": "code",
   "execution_count": null,
   "id": "f58525e9",
   "metadata": {},
   "outputs": [],
   "source": []
  }
 ],
 "metadata": {
  "kernelspec": {
   "display_name": ".venv",
   "language": "python",
   "name": "python3"
  },
  "language_info": {
   "codemirror_mode": {
    "name": "ipython",
    "version": 3
   },
   "file_extension": ".py",
   "mimetype": "text/x-python",
   "name": "python",
   "nbconvert_exporter": "python",
   "pygments_lexer": "ipython3",
   "version": "3.12.11"
  }
 },
 "nbformat": 4,
 "nbformat_minor": 5
}
