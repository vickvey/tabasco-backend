{
 "cells": [
  {
   "cell_type": "markdown",
   "id": "485acd3f",
   "metadata": {},
   "source": [
    "# Necessary Path Settings"
   ]
  },
  {
   "cell_type": "code",
   "execution_count": 1,
   "id": "04f146af",
   "metadata": {},
   "outputs": [],
   "source": [
    "import sys\n",
    "import os\n",
    "\n",
    "# Add the project root to sys.path\n",
    "sys.path.append(os.path.abspath(\"..\"))"
   ]
  },
  {
   "cell_type": "markdown",
   "id": "4bded9ff",
   "metadata": {},
   "source": [
    "### Function Monitor"
   ]
  },
  {
   "cell_type": "code",
   "execution_count": 2,
   "id": "745bdd8d",
   "metadata": {},
   "outputs": [],
   "source": [
    "import time\n",
    "import tracemalloc\n",
    "\n",
    "def timed_memory_profile(func, *args, **kwargs):\n",
    "    tracemalloc.start()\n",
    "    start_time = time.perf_counter()\n",
    "\n",
    "    result = func(*args, **kwargs)\n",
    "\n",
    "    end_time = time.perf_counter()\n",
    "    current, peak = tracemalloc.get_traced_memory()\n",
    "    tracemalloc.stop()\n",
    "\n",
    "    print(f\"Execution time: {end_time - start_time:.4f} seconds\")\n",
    "    print(f\"Current memory usage: {current / 1024:.2f} KB\")\n",
    "    print(f\"Peak memory usage: {peak / 1024:.2f} KB\")\n",
    "\n",
    "    return result\n"
   ]
  },
  {
   "cell_type": "markdown",
   "id": "affcc9fb",
   "metadata": {},
   "source": [
    "### Static constants to load once"
   ]
  },
  {
   "cell_type": "code",
   "execution_count": 3,
   "id": "d9f6504d",
   "metadata": {},
   "outputs": [],
   "source": [
    "from nltk.corpus import stopwords, wordnet as wn\n",
    "from src.services import (\n",
    "    extract_top_n_nouns_with_frequency,\n",
    "    get_sentences_with_target_word\n",
    ")\n",
    "\n",
    "STOP_WORDS = set(stopwords.words(\"english\"))\n",
    "ALL_NOUNS = {lemma.name().lower() for synset in wn.all_synsets(wn.NOUN) for lemma in synset.lemmas()}"
   ]
  },
  {
   "cell_type": "markdown",
   "id": "501ea07f",
   "metadata": {},
   "source": [
    "## -> Book upload and text convert"
   ]
  },
  {
   "cell_type": "markdown",
   "id": "0774931f",
   "metadata": {},
   "source": [
    "### Example 1: Psychology book"
   ]
  },
  {
   "cell_type": "code",
   "execution_count": 4,
   "id": "ad81e769",
   "metadata": {},
   "outputs": [
    {
     "name": "stdout",
     "output_type": "stream",
     "text": [
      "873235\n"
     ]
    }
   ],
   "source": [
    "with open('../static/uploads/psychology_explained.txt') as f:\n",
    "    text_content = f.read()\n",
    "\n",
    "print(len(text_content))"
   ]
  },
  {
   "cell_type": "markdown",
   "id": "7cd3b360",
   "metadata": {},
   "source": [
    "## -> Noun Extraction with frequency"
   ]
  },
  {
   "cell_type": "code",
   "execution_count": 5,
   "id": "3dadfd03",
   "metadata": {},
   "outputs": [
    {
     "data": {
      "text/plain": [
       "{'psychology': 621,\n",
       " 'people': 338,\n",
       " 'behavior': 316,\n",
       " 'memory': 290,\n",
       " 'theory': 254,\n",
       " 'approach': 218,\n",
       " 'personality': 215,\n",
       " 'world': 211,\n",
       " 'freud': 186,\n",
       " 'intelligence': 185}"
      ]
     },
     "execution_count": 5,
     "metadata": {},
     "output_type": "execute_result"
    }
   ],
   "source": [
    "extract_top_n_nouns_with_frequency(text_content, 10, STOP_WORDS, ALL_NOUNS)"
   ]
  },
  {
   "cell_type": "markdown",
   "id": "a05fc135",
   "metadata": {},
   "source": [
    "## -> Sentence Extraction with target word"
   ]
  },
  {
   "cell_type": "code",
   "execution_count": 6,
   "id": "13fc558f",
   "metadata": {},
   "outputs": [
    {
     "name": "stdout",
     "output_type": "stream",
     "text": [
      "Truncated sentence to 308 tokens: Konrad Lorenz 78 Behavior is shaped by positive and negative reinforcement B.F. Skinner 86 Stop imag...\n"
     ]
    }
   ],
   "source": [
    "# target word\n",
    "target_word = 'behavior'\n",
    "\n",
    "sentences = get_sentences_with_target_word(text_content, target_word, 300)"
   ]
  },
  {
   "cell_type": "code",
   "execution_count": 7,
   "id": "5f5fc9b2",
   "metadata": {},
   "outputs": [
    {
     "data": {
      "text/plain": [
       "300"
      ]
     },
     "execution_count": 7,
     "metadata": {},
     "output_type": "execute_result"
    }
   ],
   "source": [
    "len(sentences)"
   ]
  },
  {
   "cell_type": "code",
   "execution_count": 8,
   "id": "d38d57d3",
   "metadata": {},
   "outputs": [
    {
     "data": {
      "text/plain": [
       "'however the results also revealed an interesting distinction between behavior learned by positive reinforcement and behavior elicited by negative stimuli'"
      ]
     },
     "execution_count": 8,
     "metadata": {},
     "output_type": "execute_result"
    }
   ],
   "source": [
    "sentences[98]"
   ]
  },
  {
   "cell_type": "markdown",
   "id": "656830c4",
   "metadata": {},
   "source": [
    "## -> Similarity Matrix Generation"
   ]
  },
  {
   "cell_type": "code",
   "execution_count": 9,
   "id": "3b42d4c4",
   "metadata": {},
   "outputs": [],
   "source": [
    "import torch\n",
    "from transformers import BertModel, BertTokenizer\n",
    "from src.models import DisambModel \n",
    "\n",
    "# Load model & tokenizer\n",
    "bert_model = BertModel.from_pretrained(\"bert-base-uncased\", output_hidden_states=True)\n",
    "bert_tokenizer = BertTokenizer.from_pretrained(\"bert-base-uncased\")\n",
    "device = torch.device(\"cuda\" if torch.cuda.is_available() else \"cpu\")\n",
    "\n",
    "model = DisambModel(bert_model, bert_tokenizer, device)\n",
    "\n",
    "# sentence_embeddings = []\n",
    "# for sent in sentences:\n",
    "#     try:\n",
    "#         emb = model.forward(sent, target_word)\n",
    "#         sentence_embeddings.append(emb)\n",
    "#     except ValueError as e:\n",
    "#         print(f\"Skipping: {sent[:50]} — {e}\")\n",
    "\n",
    "# # (Optional) Stack for vector ops\n",
    "# if sentence_embeddings:\n",
    "#     embedding_matrix = torch.stack(sentence_embeddings)\n"
   ]
  },
  {
   "cell_type": "code",
   "execution_count": 10,
   "id": "7195deac",
   "metadata": {},
   "outputs": [],
   "source": [
    "from src.services import compute_cosine_similarity_matrix\n",
    "\n",
    "sim_matrix, _ = compute_cosine_similarity_matrix(\n",
    "    sentences=sentences,\n",
    "    target_word=target_word,\n",
    "    model=model\n",
    ")"
   ]
  },
  {
   "cell_type": "code",
   "execution_count": 11,
   "id": "bb88b618",
   "metadata": {},
   "outputs": [
    {
     "data": {
      "text/plain": [
       "torch.Size([300, 300])"
      ]
     },
     "execution_count": 11,
     "metadata": {},
     "output_type": "execute_result"
    }
   ],
   "source": [
    "sim_matrix.shape"
   ]
  },
  {
   "cell_type": "markdown",
   "id": "1830bf1f",
   "metadata": {},
   "source": [
    "## -> Clustering"
   ]
  },
  {
   "cell_type": "code",
   "execution_count": 12,
   "id": "6169fba1",
   "metadata": {},
   "outputs": [
    {
     "data": {
      "text/plain": [
       "(np.int64(3),\n",
       " [1, 2, 3, 4, 5, 6, 7, 8, 9, 10],\n",
       " [648.7823486328125,\n",
       "  326.50323486328125,\n",
       "  263.55328369140625,\n",
       "  216.40771484375,\n",
       "  187.58094787597656,\n",
       "  170.65052795410156,\n",
       "  156.81398010253906,\n",
       "  147.8011474609375,\n",
       "  138.90151977539062,\n",
       "  132.7833251953125])"
      ]
     },
     "execution_count": 12,
     "metadata": {},
     "output_type": "execute_result"
    }
   ],
   "source": [
    "from src.services import suggest_num_clusters_with_data\n",
    "\n",
    "suggest_num_clusters_with_data(sim_matrix)"
   ]
  },
  {
   "cell_type": "code",
   "execution_count": null,
   "id": "bd5e2dac",
   "metadata": {},
   "outputs": [],
   "source": []
  }
 ],
 "metadata": {
  "kernelspec": {
   "display_name": ".venv",
   "language": "python",
   "name": "python3"
  },
  "language_info": {
   "codemirror_mode": {
    "name": "ipython",
    "version": 3
   },
   "file_extension": ".py",
   "mimetype": "text/x-python",
   "name": "python",
   "nbconvert_exporter": "python",
   "pygments_lexer": "ipython3",
   "version": "3.12.3"
  }
 },
 "nbformat": 4,
 "nbformat_minor": 5
}
