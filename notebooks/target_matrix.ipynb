{
 "cells": [
  {
   "cell_type": "code",
   "execution_count": 1,
   "id": "04f146af",
   "metadata": {},
   "outputs": [],
   "source": [
    "import sys\n",
    "import os\n",
    "\n",
    "# Add the project root to sys.path\n",
    "sys.path.append(os.path.abspath(\"..\"))\n",
    "\n",
    "from app.services import (\n",
    "    extract_top_n_nouns_with_frequency,\n",
    "    get_sentences_with_target_word\n",
    ")"
   ]
  },
  {
   "cell_type": "code",
   "execution_count": 2,
   "id": "ad81e769",
   "metadata": {},
   "outputs": [
    {
     "name": "stdout",
     "output_type": "stream",
     "text": [
      "5473240\n"
     ]
    }
   ],
   "source": [
    "with open('../static/uploads/Shakespeare-Complete-Works.txt') as f:\n",
    "    text_content = f.read()\n",
    "\n",
    "print(len(text_content))"
   ]
  },
  {
   "cell_type": "code",
   "execution_count": 3,
   "id": "3dadfd03",
   "metadata": {},
   "outputs": [
    {
     "data": {
      "text/plain": [
       "{'thou': 5549,\n",
       " 'sir': 2764,\n",
       " 'come': 2519,\n",
       " 'enter': 2357,\n",
       " 'man': 2034,\n",
       " 'see': 1460,\n",
       " 'time': 1324,\n",
       " 'mine': 1170,\n",
       " 'duke': 1127,\n",
       " 'tell': 1083}"
      ]
     },
     "execution_count": 3,
     "metadata": {},
     "output_type": "execute_result"
    }
   ],
   "source": [
    "extract_top_n_nouns_with_frequency(text_content, 10)"
   ]
  },
  {
   "cell_type": "code",
   "execution_count": 4,
   "id": "13fc558f",
   "metadata": {},
   "outputs": [],
   "source": [
    "sentences = get_sentences_with_target_word(text_content, 'qol', 10)"
   ]
  },
  {
   "cell_type": "code",
   "execution_count": 5,
   "id": "5f5fc9b2",
   "metadata": {},
   "outputs": [
    {
     "data": {
      "text/plain": [
       "0"
      ]
     },
     "execution_count": 5,
     "metadata": {},
     "output_type": "execute_result"
    }
   ],
   "source": [
    "len(sentences)"
   ]
  },
  {
   "cell_type": "code",
   "execution_count": 6,
   "id": "d38d57d3",
   "metadata": {},
   "outputs": [
    {
     "data": {
      "text/plain": [
       "[]"
      ]
     },
     "execution_count": 6,
     "metadata": {},
     "output_type": "execute_result"
    }
   ],
   "source": [
    "sentences"
   ]
  },
  {
   "cell_type": "code",
   "execution_count": 7,
   "id": "3b42d4c4",
   "metadata": {},
   "outputs": [
    {
     "name": "stdout",
     "output_type": "stream",
     "text": [
      "Target embedding shape: torch.Size([768])\n",
      "Sentence embedding shape: torch.Size([768])\n",
      "Number of token embeddings: 9\n",
      "Top similar context words: [('the', 0.6852102279663086), ('is', 0.5861321091651917), ('near', 0.5287748575210571), ('the', 0.5086743831634521), ('river', 0.502588152885437), ('.', 0.06643393635749817)]\n"
     ]
    }
   ],
   "source": [
    "import torch\n",
    "from transformers import BertModel, BertTokenizer\n",
    "from app.models import DisambModel  # your custom class\n",
    "\n",
    "# Load pre-trained BERT base model and tokenizer\n",
    "bert_model = BertModel.from_pretrained(\"bert-base-uncased\", output_hidden_states=True)\n",
    "bert_tokenizer = BertTokenizer.from_pretrained(\"bert-base-uncased\")\n",
    "\n",
    "# Choose device (GPU if available, else CPU)\n",
    "device = torch.device(\"cuda\" if torch.cuda.is_available() else \"cpu\")\n",
    "\n",
    "# Instantiate your disambiguation model\n",
    "model = DisambModel(bert_model, bert_tokenizer, device)\n",
    "\n",
    "# Get target word embedding\n",
    "vec = model.forward(\"The bank is near the river.\", \"bank\")\n",
    "\n",
    "# Get sentence embedding\n",
    "sent_vec = model.get_sentence_embedding(\"The bank is near the river.\")\n",
    "\n",
    "# Get all token embeddings\n",
    "token_vecs = model.get_all_token_vectors(\"The bank is near the river.\")\n",
    "\n",
    "# Get most similar tokens to target\n",
    "sim_words = model.get_context_words(\"The bank is near the river.\", \"bank\")\n",
    "\n",
    "# Print results (optional)\n",
    "print(\"Target embedding shape:\", vec.shape)\n",
    "print(\"Sentence embedding shape:\", sent_vec.shape)\n",
    "print(\"Number of token embeddings:\", len(token_vecs))\n",
    "print(\"Top similar context words:\", sim_words)\n"
   ]
  },
  {
   "cell_type": "code",
   "execution_count": null,
   "id": "d66d225d",
   "metadata": {},
   "outputs": [],
   "source": []
  }
 ],
 "metadata": {
  "kernelspec": {
   "display_name": ".venv",
   "language": "python",
   "name": "python3"
  },
  "language_info": {
   "codemirror_mode": {
    "name": "ipython",
    "version": 3
   },
   "file_extension": ".py",
   "mimetype": "text/x-python",
   "name": "python",
   "nbconvert_exporter": "python",
   "pygments_lexer": "ipython3",
   "version": "3.12.3"
  }
 },
 "nbformat": 4,
 "nbformat_minor": 5
}
