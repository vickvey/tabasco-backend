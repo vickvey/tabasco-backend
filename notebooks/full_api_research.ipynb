{
 "cells": [
  {
   "cell_type": "markdown",
   "id": "485acd3f",
   "metadata": {},
   "source": [
    "## -> Necessary Path Settings"
   ]
  },
  {
   "cell_type": "code",
   "execution_count": 1,
   "id": "04f146af",
   "metadata": {},
   "outputs": [],
   "source": [
    "import sys\n",
    "import os\n",
    "\n",
    "# Add the project root to sys.path\n",
    "sys.path.append(os.path.abspath(\"..\"))"
   ]
  },
  {
   "cell_type": "markdown",
   "id": "4bded9ff",
   "metadata": {},
   "source": [
    "### Function Monitor"
   ]
  },
  {
   "cell_type": "code",
   "execution_count": 2,
   "id": "745bdd8d",
   "metadata": {},
   "outputs": [],
   "source": [
    "import time\n",
    "import tracemalloc\n",
    "\n",
    "def timed_memory_profile(func, *args, **kwargs):\n",
    "    tracemalloc.start()\n",
    "    start_time = time.perf_counter()\n",
    "\n",
    "    result = func(*args, **kwargs)\n",
    "\n",
    "    end_time = time.perf_counter()\n",
    "    current, peak = tracemalloc.get_traced_memory()\n",
    "    tracemalloc.stop()\n",
    "\n",
    "    print(f\"Execution time: {end_time - start_time:.4f} seconds\")\n",
    "    print(f\"Current memory usage: {current / 1024:.2f} KB\")\n",
    "    print(f\"Peak memory usage: {peak / 1024:.2f} KB\")\n",
    "\n",
    "    return result\n"
   ]
  },
  {
   "cell_type": "markdown",
   "id": "affcc9fb",
   "metadata": {},
   "source": [
    "### Static constants to load once"
   ]
  },
  {
   "cell_type": "code",
   "execution_count": 3,
   "id": "d9f6504d",
   "metadata": {},
   "outputs": [],
   "source": [
    "from nltk.corpus import stopwords, wordnet as wn\n",
    "from src.services import (\n",
    "    extract_top_n_nouns_with_frequency,\n",
    "    get_sentences_with_target_word\n",
    ")\n",
    "\n",
    "STOP_WORDS = set(stopwords.words(\"english\"))\n",
    "ALL_NOUNS = {lemma.name().lower() for synset in wn.all_synsets(wn.NOUN) for lemma in synset.lemmas()}"
   ]
  },
  {
   "cell_type": "markdown",
   "id": "501ea07f",
   "metadata": {},
   "source": [
    "## -> Book upload and text convert"
   ]
  },
  {
   "cell_type": "markdown",
   "id": "0774931f",
   "metadata": {},
   "source": [
    "### Example 1: Psychology book"
   ]
  },
  {
   "cell_type": "code",
   "execution_count": 4,
   "id": "ad81e769",
   "metadata": {},
   "outputs": [
    {
     "name": "stdout",
     "output_type": "stream",
     "text": [
      "4473723\n"
     ]
    }
   ],
   "source": [
    "with open('../test_pdfs/req_compressed.txt') as f:\n",
    "    text_content = f.read()\n",
    "\n",
    "print(len(text_content))"
   ]
  },
  {
   "cell_type": "markdown",
   "id": "7cd3b360",
   "metadata": {},
   "source": [
    "## -> Noun Extraction with frequency"
   ]
  },
  {
   "cell_type": "code",
   "execution_count": 5,
   "id": "3dadfd03",
   "metadata": {},
   "outputs": [
    {
     "data": {
      "text/plain": [
       "{'system': 6250,\n",
       " 'data': 4910,\n",
       " 'software': 2954,\n",
       " 'user': 2700,\n",
       " 'specification': 2311,\n",
       " 'page': 1843,\n",
       " 'information': 1658,\n",
       " 'time': 1620,\n",
       " 'use': 1543,\n",
       " 'interface': 1465,\n",
       " 'control': 1373,\n",
       " 'number': 1182,\n",
       " 'status': 1179,\n",
       " 'version': 1044,\n",
       " 'description': 939,\n",
       " 'section': 913,\n",
       " 'document': 904,\n",
       " 'application': 862,\n",
       " 'file': 854,\n",
       " 'access': 839,\n",
       " 'service': 833,\n",
       " 'case': 819,\n",
       " 'type': 811,\n",
       " 'call': 762,\n",
       " 'requirement': 750,\n",
       " 'network': 742,\n",
       " 'message': 741,\n",
       " 'project': 737,\n",
       " 'product': 727,\n",
       " 'name': 722,\n",
       " 'level': 682,\n",
       " 'management': 667,\n",
       " 'services': 658,\n",
       " 'item': 622,\n",
       " 'date': 619,\n",
       " 'output': 612,\n",
       " 'design': 597,\n",
       " 'operator': 582,\n",
       " 'group': 581,\n",
       " 'list': 580,\n",
       " 'radio': 570,\n",
       " 'process': 547,\n",
       " 'function': 537,\n",
       " 'operation': 525,\n",
       " 'input': 519,\n",
       " 'state': 515,\n",
       " 'id': 509,\n",
       " 'temperature': 509,\n",
       " 'command': 508,\n",
       " 'mode': 504}"
      ]
     },
     "execution_count": 5,
     "metadata": {},
     "output_type": "execute_result"
    }
   ],
   "source": [
    "extract_top_n_nouns_with_frequency(text_content, 50, STOP_WORDS, ALL_NOUNS)"
   ]
  },
  {
   "cell_type": "markdown",
   "id": "a05fc135",
   "metadata": {},
   "source": [
    "## -> Sentence Extraction with target word"
   ]
  },
  {
   "cell_type": "code",
   "execution_count": 6,
   "id": "13fc558f",
   "metadata": {},
   "outputs": [
    {
     "name": "stdout",
     "output_type": "stream",
     "text": [
      "Truncated sentence to 444 tokens: BOOKMARK NOT DE vi Acronym List ADRG ADT AFATDS AFMSS AIS AMPS ASAS ASD ATCSS ATHS ATO ATWCS AV BITE...\n",
      "Truncated sentence to 463 tokens: TCS - C4I Interface Design Description Tactical Control System (TCS) to Army Mission Planning System...\n",
      "Truncated sentence to 350 tokens: I-15 Reversible Lane Control System Level 1 - Data Flow April 21, 2004 Section VID page 45 of 66 Dep...\n",
      "Truncated sentence to 460 tokens: RF connector intended primarily for analogue speech’ IEC 1508 ‘Functional safety: Safety related sys...\n",
      "Truncated sentence to 477 tokens: ADA A-DCS AFWA API APS ATMS AWIPS C1 C2 C3 C3S CASE CDR CDR CE CLASS CM CMIS CO CONOPS COOP COR COTS...\n",
      "Truncated sentence to 453 tokens: ESPC is able to The Contractor plan for new shall support systems, and for technical planning change...\n",
      "Truncated sentence to 394 tokens: These Operation Types are: • Data operation to capture and deliver formatted ELSS data for transmiss...\n"
     ]
    }
   ],
   "source": [
    "# target word\n",
    "target_word = 'system'\n",
    "\n",
    "sentences = get_sentences_with_target_word(text_content, target_word, 1000)"
   ]
  },
  {
   "cell_type": "code",
   "execution_count": 7,
   "id": "5f5fc9b2",
   "metadata": {},
   "outputs": [
    {
     "data": {
      "text/plain": [
       "1000"
      ]
     },
     "execution_count": 7,
     "metadata": {},
     "output_type": "execute_result"
    }
   ],
   "source": [
    "len(sentences)"
   ]
  },
  {
   "cell_type": "code",
   "execution_count": 8,
   "id": "d38d57d3",
   "metadata": {},
   "outputs": [
    {
     "data": {
      "text/plain": [
       "'the system shall utilize consistent symbols and colors for clear notifications'"
      ]
     },
     "execution_count": 8,
     "metadata": {},
     "output_type": "execute_result"
    }
   ],
   "source": [
    "sentences[98]"
   ]
  },
  {
   "cell_type": "markdown",
   "id": "656830c4",
   "metadata": {},
   "source": [
    "## -> Similarity Matrix Generation"
   ]
  },
  {
   "cell_type": "code",
   "execution_count": 9,
   "id": "3b42d4c4",
   "metadata": {},
   "outputs": [],
   "source": [
    "import torch\n",
    "from transformers import BertModel, BertTokenizer\n",
    "from src.models import DisambModel \n",
    "\n",
    "# Load model & tokenizer\n",
    "bert_model = BertModel.from_pretrained(\"bert-base-uncased\", output_hidden_states=True)\n",
    "bert_tokenizer = BertTokenizer.from_pretrained(\"bert-base-uncased\")\n",
    "device = torch.device(\"cuda\" if torch.cuda.is_available() else \"cpu\")\n",
    "model = DisambModel(bert_model, bert_tokenizer, device)\n"
   ]
  },
  {
   "cell_type": "code",
   "execution_count": 10,
   "id": "7195deac",
   "metadata": {},
   "outputs": [],
   "source": [
    "from src.services import compute_cosine_similarity_matrix\n",
    "\n",
    "sim_matrix, sentences_embeddings = compute_cosine_similarity_matrix(\n",
    "    sentences=sentences,\n",
    "    target_word=target_word,\n",
    "    model=model\n",
    ")"
   ]
  },
  {
   "cell_type": "code",
   "execution_count": 11,
   "id": "971bf666",
   "metadata": {},
   "outputs": [
    {
     "data": {
      "text/plain": [
       "torch.Size([768])"
      ]
     },
     "execution_count": 11,
     "metadata": {},
     "output_type": "execute_result"
    }
   ],
   "source": [
    "sentences_embeddings[0].shape"
   ]
  },
  {
   "cell_type": "code",
   "execution_count": 12,
   "id": "bb88b618",
   "metadata": {},
   "outputs": [
    {
     "data": {
      "text/plain": [
       "torch.Size([1000, 1000])"
      ]
     },
     "execution_count": 12,
     "metadata": {},
     "output_type": "execute_result"
    }
   ],
   "source": [
    "sim_matrix.shape"
   ]
  },
  {
   "cell_type": "markdown",
   "id": "1830bf1f",
   "metadata": {},
   "source": [
    "## -> Finding Optimal number of clusters from similarity matrix (by using elbow method)"
   ]
  },
  {
   "cell_type": "code",
   "execution_count": 13,
   "id": "6169fba1",
   "metadata": {},
   "outputs": [
    {
     "name": "stdout",
     "output_type": "stream",
     "text": [
      "Optimal cluster count in range [1, 10]:  4\n"
     ]
    }
   ],
   "source": [
    "from src.services import suggest_num_clusters_with_data\n",
    "\n",
    "optimal_k, k_range, wcss = suggest_num_clusters_with_data(sim_matrix)\n",
    "\n",
    "print(\"Optimal cluster count in range [1, 10]: \", optimal_k)"
   ]
  },
  {
   "cell_type": "code",
   "execution_count": 14,
   "id": "bd5e2dac",
   "metadata": {},
   "outputs": [
    {
     "data": {
      "image/png": "[encoded data removed]",
      "text/plain": [
       "<Figure size 800x500 with 1 Axes>"
      ]
     },
     "metadata": {},
     "output_type": "display_data"
    }
   ],
   "source": [
    "import matplotlib.pyplot as plt\n",
    "\n",
    "# Plotting\n",
    "plt.figure(figsize=(8, 5))\n",
    "plt.plot(k_range, wcss, marker='o')\n",
    "plt.title('Elbow Method For Optimal k')\n",
    "plt.xlabel('Number of Clusters (k)')\n",
    "plt.ylabel('WCSS (Inertia)')\n",
    "plt.xticks(k_range)\n",
    "\n",
    "# Annotate the optimal k\n",
    "plt.axvline(x=optimal_k, color='r', linestyle='--', label=f'Optimal k = {optimal_k}')\n",
    "plt.legend()\n",
    "\n",
    "plt.tight_layout()\n",
    "plt.show()"
   ]
  },
  {
   "cell_type": "markdown",
   "id": "28972e5e",
   "metadata": {},
   "source": [
    "## -> Label Sentences by cluster"
   ]
  },
  {
   "cell_type": "code",
   "execution_count": 15,
   "id": "f58525e9",
   "metadata": {},
   "outputs": [],
   "source": [
    "from src.services import label_sentences_by_cluster\n",
    "\n",
    "clusters_dict = label_sentences_by_cluster(sentences, sim_matrix, optimal_k)"
   ]
  },
  {
   "cell_type": "code",
   "execution_count": 18,
   "id": "acbb048e",
   "metadata": {},
   "outputs": [],
   "source": [
    "from src.services import generate_summary_files\n",
    "from pathlib import Path\n",
    "from random import random\n",
    "\n",
    "generate_summary_files(\n",
    "    target_word=target_word,\n",
    "    clusters_dict=clusters_dict,\n",
    "    summary_folder_path=Path(str(random())),\n",
    "    disamb_model=model\n",
    ")"
   ]
  },
  {
   "cell_type": "code",
   "execution_count": null,
   "id": "cbd66a7f",
   "metadata": {},
   "outputs": [],
   "source": []
  }
 ],
 "metadata": {
  "kernelspec": {
   "display_name": ".venv",
   "language": "python",
   "name": "python3"
  },
  "language_info": {
   "codemirror_mode": {
    "name": "ipython",
    "version": 3
   },
   "file_extension": ".py",
   "mimetype": "text/x-python",
   "name": "python",
   "nbconvert_exporter": "python",
   "pygments_lexer": "ipython3",
   "version": "3.12.3"
  }
 },
 "nbformat": 4,
 "nbformat_minor": 5
}
