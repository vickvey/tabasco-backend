{
 "cells": [
  {
   "cell_type": "markdown",
   "id": "287b0f61",
   "metadata": {},
   "source": [
    "# without time & memory testing"
   ]
  },
  {
   "cell_type": "code",
   "execution_count": 1,
   "id": "031f6e65",
   "metadata": {},
   "outputs": [],
   "source": [
    "# import re\n",
    "# from nltk import word_tokenize, pos_tag, FreqDist\n",
    "# from nltk.corpus import stopwords\n",
    "# from nltk.corpus import wordnet as wn\n",
    "\n",
    "# def is_noun(word):\n",
    "#     return bool(wn.synsets(word, pos=wn.NOUN))\n",
    "\n",
    "# def _basic_clean_text(text: str) -> str:\n",
    "#     \"\"\"\n",
    "#     Standardize and clean raw text by:\n",
    "#     - Lowercasing\n",
    "#     - Removing punctuation\n",
    "#     - Normalizing whitespace\n",
    "\n",
    "#     Args:\n",
    "#         text (str): Raw input text.\n",
    "\n",
    "#     Returns:\n",
    "#         str: Cleaned and normalized text.\n",
    "#     \"\"\"\n",
    "#     text = text.lower()\n",
    "#     text = re.sub(r\"[^\\w\\s]\", \" \", text)  # Remove punctuation\n",
    "#     text = re.sub(r\"\\s+\", \" \", text)      # Normalize whitespace\n",
    "#     return text.strip()\n",
    "\n",
    "# def extract_top_n_nouns_with_frequency(text: str, top_n: int = 50) -> dict[str, int]:\n",
    "#     if not text or not isinstance(text, str):\n",
    "#         raise ValueError(\"Input must be a non-empty string.\")\n",
    "\n",
    "#     text = _basic_clean_text(text)\n",
    "#     tokens = word_tokenize(text)\n",
    "#     tokens = [t for t in tokens if t.isalpha()]\n",
    "\n",
    "#     stop_words = set(stopwords.words(\"english\"))\n",
    "#     tokens = [t for t in tokens if t not in stop_words]\n",
    "\n",
    "#     tagged_tokens = pos_tag(tokens)\n",
    "\n",
    "#     # Filter nouns and check if they are valid nouns in WordNet\n",
    "#     nouns = [\n",
    "#         word for word, tag in tagged_tokens\n",
    "#         if tag.startswith(\"NN\") and len(word) > 1 and is_noun(word)\n",
    "#     ]\n",
    "\n",
    "#     freq_dist = FreqDist(nouns)\n",
    "#     sorted_nouns = freq_dist.most_common(top_n)\n",
    "\n",
    "#     return dict(sorted_nouns)\n"
   ]
  },
  {
   "cell_type": "markdown",
   "id": "c9328d26",
   "metadata": {},
   "source": [
    "# with time & memory testing"
   ]
  },
  {
   "cell_type": "code",
   "execution_count": 2,
   "id": "999c6fd7",
   "metadata": {},
   "outputs": [],
   "source": [
    "import re\n",
    "import time\n",
    "import tracemalloc\n",
    "from collections import Counter\n",
    "from nltk import word_tokenize, pos_tag\n",
    "from nltk.corpus import stopwords, wordnet as wn\n",
    "\n",
    "# Pre-load stopwords and noun vocabulary once\n",
    "STOP_WORDS = set(stopwords.words(\"english\"))\n",
    "ALL_NOUNS = {lemma.name().lower() for synset in wn.all_synsets(wn.NOUN) for lemma in synset.lemmas()}\n",
    "\n",
    "def _basic_clean_text(text: str) -> str:\n",
    "    text = text.lower()\n",
    "    text = re.sub(r\"[^\\w\\s]\", \" \", text)\n",
    "    text = re.sub(r\"\\s+\", \" \", text)\n",
    "    return text.strip()\n",
    "\n",
    "def extract_top_n_nouns_with_frequency_v2(text: str, top_n: int, stop_words: set[str], all_nouns: set[str]) -> dict[str, int]:\n",
    "    if not text or not isinstance(text, str):\n",
    "        raise ValueError(\"Input must be a non-empty string.\")\n",
    "\n",
    "    cleaned = _basic_clean_text(text)\n",
    "    tokens = word_tokenize(cleaned)\n",
    "    tokens = [t for t in tokens if t.isalpha() and t not in stop_words]\n",
    "\n",
    "    tagged_tokens = pos_tag(tokens)\n",
    "    nouns = [\n",
    "        word for word, tag in tagged_tokens\n",
    "        if tag.startswith(\"NN\") and len(word) > 1 and word in all_nouns\n",
    "    ]\n",
    "\n",
    "    freq = Counter(nouns)\n",
    "    return dict(freq.most_common(top_n))\n",
    "\n",
    "def timed_memory_profile(func, *args, **kwargs):\n",
    "    tracemalloc.start()\n",
    "    start_time = time.perf_counter()\n",
    "\n",
    "    result = func(*args, **kwargs)\n",
    "\n",
    "    end_time = time.perf_counter()\n",
    "    current, peak = tracemalloc.get_traced_memory()\n",
    "    tracemalloc.stop()\n",
    "\n",
    "    print(f\"Execution time: {end_time - start_time:.4f} seconds\")\n",
    "    print(f\"Current memory usage: {current / 1024:.2f} KB\")\n",
    "    print(f\"Peak memory usage: {peak / 1024:.2f} KB\")\n",
    "\n",
    "    return result\n",
    "\n",
    "# Example usage:\n",
    "# result = timed_memory_profile(\n",
    "#     extract_top_n_nouns_with_frequency_v2, \n",
    "#     text_content, \n",
    "#     50, \n",
    "#     STOP_WORDS, \n",
    "#     ALL_NOUNS\n",
    "# )\n"
   ]
  },
  {
   "cell_type": "markdown",
   "id": "ca76e205",
   "metadata": {},
   "source": [
    "## 1. Archaic Tests (Although model was not made for this) - Used shakespeare book"
   ]
  },
  {
   "cell_type": "code",
   "execution_count": 3,
   "id": "74d3d491",
   "metadata": {},
   "outputs": [
    {
     "name": "stdout",
     "output_type": "stream",
     "text": [
      "5473240\n"
     ]
    }
   ],
   "source": [
    "with open('../static/uploads/Shakespeare-Complete-Works.txt') as f:\n",
    "    text_content = f.read()\n",
    "\n",
    "print(len(text_content))"
   ]
  },
  {
   "cell_type": "code",
   "execution_count": 10,
   "id": "653acfa7",
   "metadata": {},
   "outputs": [
    {
     "name": "stdout",
     "output_type": "stream",
     "text": [
      "Execution time: 5.5504 seconds\n",
      "Current memory usage: 112.29 KB\n",
      "Peak memory usage: 14377.14 KB\n",
      "{'psychology': 578}\n"
     ]
    }
   ],
   "source": [
    "result = timed_memory_profile(extract_top_n_nouns_with_frequency_v2, text_content, 1, STOP_WORDS, ALL_NOUNS)\n",
    "print(result)"
   ]
  },
  {
   "cell_type": "markdown",
   "id": "41b69286",
   "metadata": {},
   "source": [
    "# 2. A more modern test on Psychology book, which the noun tagger was made for"
   ]
  },
  {
   "cell_type": "code",
   "execution_count": 5,
   "id": "55a9c9b0",
   "metadata": {},
   "outputs": [
    {
     "name": "stdout",
     "output_type": "stream",
     "text": [
      "873235\n"
     ]
    }
   ],
   "source": [
    "with open('../static/uploads/psychology_explained.txt') as f:\n",
    "    text_content = f.read()\n",
    "\n",
    "print(len(text_content))"
   ]
  },
  {
   "cell_type": "code",
   "execution_count": 6,
   "id": "a5947932",
   "metadata": {},
   "outputs": [
    {
     "name": "stdout",
     "output_type": "stream",
     "text": [
      "Execution time: 5.4450 seconds\n",
      "Current memory usage: 125.56 KB\n",
      "Peak memory usage: 14376.14 KB\n",
      "{'psychology': 578, 'people': 343, 'memory': 274, 'world': 218, 'personality': 216, 'approach': 215, 'behavior': 199, 'theory': 192, 'life': 189, 'intelligence': 184, 'time': 177, 'therapy': 168, 'study': 162, 'university': 161, 'research': 154, 'work': 152, 'development': 150, 'information': 145, 'way': 144, 'person': 140, 'mind': 135, 'experience': 130, 'brain': 129, 'child': 123, 'idea': 120, 'see': 120, 'process': 115, 'self': 114, 'psychologist': 106, 'response': 106, 'freud': 103, 'james': 101, 'environment': 98, 'skinner': 98, 'language': 96, 'feelings': 96, 'part': 94, 'things': 94, 'consciousness': 93, 'family': 93, 'behaviorism': 86, 'years': 86, 'john': 84, 'century': 84, 'war': 82, 'group': 82, 'change': 81, 'rogers': 81, 'perception': 80, 'term': 80, 'psychoanalysis': 79, 'stage': 78, 'order': 74, 'book': 73, 'man': 73, 'age': 71, 'ways': 71, 'ability': 71, 'example': 70, 'watson': 69, 'state': 68, 'nature': 66, 'attention': 65, 'effect': 64, 'miller': 63, 'society': 63, 'body': 63, 'model': 63, 'number': 62, 'context': 62, 'sense': 61, 'science': 60, 'experiment': 60, 'food': 58, 'psychotherapy': 58, 'stimulus': 58, 'reality': 57, 'test': 57, 'association': 56, 'use': 55, 'men': 55, 'death': 55, 'situation': 55, 'piaget': 55, 'form': 54, 'beck': 54, 'problem': 54, 'school': 54, 'role': 54, 'conditioning': 54, 'system': 53, 'jung': 53, 'place': 53, 'education': 53, 'control': 52, 'interest': 52, 'knowledge': 49, 'philosophy': 48, 'fact': 48, 'depression': 48}\n"
     ]
    }
   ],
   "source": [
    "result = timed_memory_profile(extract_top_n_nouns_with_frequency_v2, text_content, 100, STOP_WORDS, ALL_NOUNS)\n",
    "print(result)"
   ]
  },
  {
   "cell_type": "markdown",
   "id": "359c0de2",
   "metadata": {},
   "source": [
    "# 3. Test 3: A short corpus text of psychology"
   ]
  },
  {
   "cell_type": "code",
   "execution_count": 7,
   "id": "a30918fb",
   "metadata": {},
   "outputs": [],
   "source": [
    "text_content2 = \"\"\"Psychology is the scientific study of behavior and mental processes. It explores how individuals think, feel, and act both independently and within social contexts. Modern psychology covers a wide range of topics including cognition, emotion, motivation, personality, development, and mental health. Researchers use various methods such as experiments, observations, and surveys to understand human behavior. Advances in neuroscience have also deepened our understanding of the brain mechanisms underlying cognitive functions and emotional regulation. Applied psychology branches include clinical psychology, counseling, educational psychology, and industrial-organizational psychology, all aiming to improve well-being and performance across different settings.\n",
    "\"\"\""
   ]
  },
  {
   "cell_type": "code",
   "execution_count": 8,
   "id": "7f07adf7",
   "metadata": {},
   "outputs": [
    {
     "name": "stdout",
     "output_type": "stream",
     "text": [
      "Execution time: 5.4385 seconds\n",
      "Current memory usage: 119.03 KB\n",
      "Peak memory usage: 14376.08 KB\n",
      "{'psychology': 578, 'people': 343, 'memory': 274, 'world': 218, 'personality': 216, 'approach': 215, 'behavior': 199, 'theory': 192, 'life': 189, 'intelligence': 184, 'time': 177, 'therapy': 168, 'study': 162, 'university': 161, 'research': 154, 'work': 152, 'development': 150, 'information': 145, 'way': 144, 'person': 140, 'mind': 135, 'experience': 130, 'brain': 129, 'child': 123, 'idea': 120, 'see': 120, 'process': 115, 'self': 114, 'psychologist': 106, 'response': 106, 'freud': 103, 'james': 101, 'environment': 98, 'skinner': 98, 'language': 96, 'feelings': 96, 'part': 94, 'things': 94, 'consciousness': 93, 'family': 93, 'behaviorism': 86, 'years': 86, 'john': 84, 'century': 84, 'war': 82, 'group': 82, 'change': 81, 'rogers': 81, 'perception': 80, 'term': 80, 'psychoanalysis': 79, 'stage': 78, 'order': 74, 'book': 73, 'man': 73, 'age': 71, 'ways': 71, 'ability': 71, 'example': 70, 'watson': 69, 'state': 68, 'nature': 66, 'attention': 65, 'effect': 64, 'miller': 63, 'society': 63, 'body': 63, 'model': 63, 'number': 62, 'context': 62, 'sense': 61, 'science': 60, 'experiment': 60, 'food': 58, 'psychotherapy': 58, 'stimulus': 58, 'reality': 57, 'test': 57, 'association': 56, 'use': 55, 'men': 55, 'death': 55, 'situation': 55, 'piaget': 55, 'form': 54, 'beck': 54, 'problem': 54, 'school': 54, 'role': 54, 'conditioning': 54, 'system': 53, 'jung': 53, 'place': 53, 'education': 53, 'control': 52, 'interest': 52, 'knowledge': 49, 'philosophy': 48, 'fact': 48, 'depression': 48}\n"
     ]
    }
   ],
   "source": [
    "result = timed_memory_profile(extract_top_n_nouns_with_frequency_v2, text_content, 100, STOP_WORDS, ALL_NOUNS)\n",
    "print(result)"
   ]
  },
  {
   "cell_type": "markdown",
   "id": "b6d81971",
   "metadata": {},
   "source": [
    "# Testing Time & Memory of the Preprocessing API"
   ]
  },
  {
   "cell_type": "code",
   "execution_count": 9,
   "id": "bbe994e6",
   "metadata": {},
   "outputs": [
    {
     "name": "stdout",
     "output_type": "stream",
     "text": [
      "Execution time: 0.0010 seconds\n",
      "Current memory usage: 0.34 KB\n",
      "Peak memory usage: 4.98 KB\n",
      "{'psychology': 1, 'study': 1}\n"
     ]
    }
   ],
   "source": [
    "text = \"\"\"Psychology is the scientific study of behavior and mental processes. ...\"\"\"\n",
    "\n",
    "result = timed_memory_profile(extract_top_n_nouns_with_frequency_v2, text, 100, STOP_WORDS, ALL_NOUNS)\n",
    "print(result)\n"
   ]
  },
  {
   "cell_type": "code",
   "execution_count": null,
   "id": "11013462",
   "metadata": {},
   "outputs": [],
   "source": []
  }
 ],
 "metadata": {
  "kernelspec": {
   "display_name": ".venv",
   "language": "python",
   "name": "python3"
  },
  "language_info": {
   "codemirror_mode": {
    "name": "ipython",
    "version": 3
   },
   "file_extension": ".py",
   "mimetype": "text/x-python",
   "name": "python",
   "nbconvert_exporter": "python",
   "pygments_lexer": "ipython3",
   "version": "3.12.3"
  }
 },
 "nbformat": 4,
 "nbformat_minor": 5
}
