{
 "cells": [
  {
   "cell_type": "markdown",
   "id": "c9328d26",
   "metadata": {},
   "source": [
    "# with time & memory testing"
   ]
  },
  {
   "cell_type": "code",
   "execution_count": 1,
   "id": "2911f903",
   "metadata": {},
   "outputs": [
    {
     "name": "stdout",
     "output_type": "stream",
     "text": [
      "Project root added to sys.path: /home/iiserb/Desktop/tabasco-fastapi\n"
     ]
    }
   ],
   "source": [
    "import sys\n",
    "import os\n",
    "\n",
    "# Get the root of the project (i.e., one level up from 'notebooks/')\n",
    "project_root = os.path.abspath(os.path.join(os.getcwd(), \"..\"))\n",
    "sys.path.insert(0, project_root)\n",
    "\n",
    "print(\"Project root added to sys.path:\", project_root)\n"
   ]
  },
  {
   "cell_type": "code",
   "execution_count": null,
   "id": "999c6fd7",
   "metadata": {},
   "outputs": [],
   "source": [
    "from nltk.corpus import stopwords, wordnet as wn\n",
    "\n",
    "# Pre-load stopwords and noun vocabulary once\n",
    "STOP_WORDS = set(stopwords.words(\"english\"))\n",
    "ALL_NOUNS = {lemma.name().lower() for synset in wn.all_synsets(wn.NOUN) for lemma in synset.lemmas()}\n",
    "\n",
    "from src.services.preprocessing import _basic_clean_text\n",
    "from src.services import extract_top_n_nouns_with_frequency\n",
    "\n",
    "import time\n",
    "import tracemalloc\n",
    "\n",
    "def timed_memory_profile(func, *args, **kwargs):\n",
    "    tracemalloc.start()\n",
    "    start_time = time.perf_counter()\n",
    "\n",
    "    result = func(*args, **kwargs)\n",
    "\n",
    "    end_time = time.perf_counter()\n",
    "    current, peak = tracemalloc.get_traced_memory()\n",
    "    tracemalloc.stop()\n",
    "\n",
    "    print(f\"Execution time: {end_time - start_time:.4f} seconds\")\n",
    "    print(f\"Current memory usage: {current / 1024:.2f} KB\")\n",
    "    print(f\"Peak memory usage: {peak / 1024:.2f} KB\")\n",
    "\n",
    "    return result"
   ]
  },
  {
   "cell_type": "markdown",
   "id": "ca76e205",
   "metadata": {},
   "source": [
    "## 1. Archaic Tests (Although model was not made for this) - Used shakespeare book"
   ]
  },
  {
   "cell_type": "code",
   "execution_count": 3,
   "id": "74d3d491",
   "metadata": {},
   "outputs": [
    {
     "name": "stdout",
     "output_type": "stream",
     "text": [
      "5473240\n"
     ]
    }
   ],
   "source": [
    "\n",
    "\n",
    "with open('../static/uploads/Shakespeare-Complete-Works.txt') as f:\n",
    "    text_content = f.read()\n",
    "\n",
    "print(len(text_content))"
   ]
  },
  {
   "cell_type": "code",
   "execution_count": 4,
   "id": "653acfa7",
   "metadata": {},
   "outputs": [
    {
     "name": "stdout",
     "output_type": "stream",
     "text": [
      "Execution time: 78.5741 seconds\n",
      "Current memory usage: 29652.23 KB\n",
      "Peak memory usage: 207442.19 KB\n",
      "{'lord': 3005}\n"
     ]
    }
   ],
   "source": [
    "result = timed_memory_profile(extract_top_n_nouns_with_frequency, text_content, 1, STOP_WORDS, ALL_NOUNS)\n",
    "print(result)"
   ]
  },
  {
   "cell_type": "markdown",
   "id": "41b69286",
   "metadata": {},
   "source": [
    "# 2. A more modern test on Psychology book, which the noun tagger was made for"
   ]
  },
  {
   "cell_type": "code",
   "execution_count": 6,
   "id": "55a9c9b0",
   "metadata": {},
   "outputs": [
    {
     "name": "stdout",
     "output_type": "stream",
     "text": [
      "4022\n"
     ]
    }
   ],
   "source": [
    "with open('../static/uploads/SSC GD result 2025 declared at ssc.gov.in, check cut-off marks and download PDF - Times of India.txt') as f:\n",
    "    text_content = f.read()\n",
    "\n",
    "print(len(text_content))"
   ]
  },
  {
   "cell_type": "code",
   "execution_count": 8,
   "id": "a5947932",
   "metadata": {},
   "outputs": [
    {
     "name": "stdout",
     "output_type": "stream",
     "text": [
      "Execution time: 0.0408 seconds\n",
      "Current memory usage: 2.19 KB\n",
      "Peak memory usage: 74.76 KB\n",
      "{'result': 18, 'gd': 15, 'marks': 11, 'cutoff': 9, 'step': 6, 'constable': 5, 'list': 4, 'answer': 4, 'commission': 3, 'examination': 3}\n"
     ]
    }
   ],
   "source": [
    "result = timed_memory_profile(extract_top_n_nouns_with_frequency, text_content, 10, STOP_WORDS, ALL_NOUNS)\n",
    "print(result)"
   ]
  },
  {
   "cell_type": "markdown",
   "id": "359c0de2",
   "metadata": {},
   "source": [
    "# 3. Test 3: A short corpus text of psychology"
   ]
  },
  {
   "cell_type": "code",
   "execution_count": 7,
   "id": "a30918fb",
   "metadata": {},
   "outputs": [],
   "source": [
    "text_content2 = \"\"\"Psychology is the scientific study of behavior and mental processes. It explores how individuals think, feel, and act both independently and within social contexts. Modern psychology covers a wide range of topics including cognition, emotion, motivation, personality, development, and mental health. Researchers use various methods such as experiments, observations, and surveys to understand human behavior. Advances in neuroscience have also deepened our understanding of the brain mechanisms underlying cognitive functions and emotional regulation. Applied psychology branches include clinical psychology, counseling, educational psychology, and industrial-organizational psychology, all aiming to improve well-being and performance across different settings.\n",
    "\"\"\""
   ]
  },
  {
   "cell_type": "code",
   "execution_count": 10,
   "id": "7f07adf7",
   "metadata": {},
   "outputs": [
    {
     "name": "stdout",
     "output_type": "stream",
     "text": [
      "Execution time: 0.0366 seconds\n",
      "Current memory usage: 1.44 KB\n",
      "Peak memory usage: 73.42 KB\n",
      "{'result': 18, 'gd': 15, 'marks': 11, 'cutoff': 9, 'step': 6, 'constable': 5, 'list': 4, 'answer': 4, 'commission': 3, 'examination': 3}\n"
     ]
    }
   ],
   "source": [
    "result = timed_memory_profile(extract_top_n_nouns_with_frequency, text_content, 10, STOP_WORDS, ALL_NOUNS)\n",
    "print(result)"
   ]
  },
  {
   "cell_type": "markdown",
   "id": "b6d81971",
   "metadata": {},
   "source": [
    "# Testing Time & Memory of the Preprocessing API"
   ]
  },
  {
   "cell_type": "code",
   "execution_count": 12,
   "id": "bbe994e6",
   "metadata": {},
   "outputs": [
    {
     "name": "stdout",
     "output_type": "stream",
     "text": [
      "Execution time: 0.0008 seconds\n",
      "Current memory usage: 0.36 KB\n",
      "Peak memory usage: 5.48 KB\n",
      "{'psychology': 1, 'study': 1, 'behavior': 1}\n"
     ]
    }
   ],
   "source": [
    "text = \"\"\"Psychology is the scientific study of behavior and mental processes. ...\"\"\"\n",
    "\n",
    "result = timed_memory_profile(extract_top_n_nouns_with_frequency, text, 10, STOP_WORDS, ALL_NOUNS)\n",
    "print(result)\n"
   ]
  },
  {
   "cell_type": "code",
   "execution_count": null,
   "id": "11013462",
   "metadata": {},
   "outputs": [],
   "source": []
  }
 ],
 "metadata": {
  "kernelspec": {
   "display_name": ".venv",
   "language": "python",
   "name": "python3"
  },
  "language_info": {
   "codemirror_mode": {
    "name": "ipython",
    "version": 3
   },
   "file_extension": ".py",
   "mimetype": "text/x-python",
   "name": "python",
   "nbconvert_exporter": "python",
   "pygments_lexer": "ipython3",
   "version": "3.12.3"
  }
 },
 "nbformat": 4,
 "nbformat_minor": 5
}
